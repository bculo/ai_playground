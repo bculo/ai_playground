{
 "cells": [
  {
   "cell_type": "code",
   "execution_count": 1,
   "id": "d0ab1f37",
   "metadata": {},
   "outputs": [
    {
     "data": {
      "text/plain": [
       "'\\n    Text classsification examples\\n'"
      ]
     },
     "execution_count": 1,
     "metadata": {},
     "output_type": "execute_result"
    }
   ],
   "source": [
    "\"\"\"\n",
    "    Text classsification examples\n",
    "    More models on https://huggingface.co/models?pipeline_tag=text-classification&sort=trending\n",
    "    Use SHIFT + ENTER to execute block of code!!!\n",
    "\"\"\""
   ]
  },
  {
   "cell_type": "code",
   "execution_count": 2,
   "id": "80016c46",
   "metadata": {},
   "outputs": [
    {
     "data": {
      "application/vnd.jupyter.widget-view+json": {
       "model_id": "507a4282238f48ca885ee33e9168b656",
       "version_major": 2,
       "version_minor": 0
      },
      "text/plain": [
       "Downloading (…)lve/main/config.json:   0%|          | 0.00/1.00k [00:00<?, ?B/s]"
      ]
     },
     "metadata": {},
     "output_type": "display_data"
    },
    {
     "data": {
      "application/vnd.jupyter.widget-view+json": {
       "model_id": "abc7ded6e06148b5bb03172cd1c19b6b",
       "version_major": 2,
       "version_minor": 0
      },
      "text/plain": [
       "Downloading pytorch_model.bin:   0%|          | 0.00/329M [00:00<?, ?B/s]"
      ]
     },
     "metadata": {},
     "output_type": "display_data"
    },
    {
     "data": {
      "application/vnd.jupyter.widget-view+json": {
       "model_id": "f1f2ecefe23a4cd6a126bb130630568f",
       "version_major": 2,
       "version_minor": 0
      },
      "text/plain": [
       "Downloading (…)okenizer_config.json:   0%|          | 0.00/294 [00:00<?, ?B/s]"
      ]
     },
     "metadata": {},
     "output_type": "display_data"
    },
    {
     "data": {
      "application/vnd.jupyter.widget-view+json": {
       "model_id": "386af9fb4f3c4889a3aff195b9f5ee07",
       "version_major": 2,
       "version_minor": 0
      },
      "text/plain": [
       "Downloading (…)olve/main/vocab.json:   0%|          | 0.00/798k [00:00<?, ?B/s]"
      ]
     },
     "metadata": {},
     "output_type": "display_data"
    },
    {
     "data": {
      "application/vnd.jupyter.widget-view+json": {
       "model_id": "c28ae853f74f4c00a6ef50e340538e63",
       "version_major": 2,
       "version_minor": 0
      },
      "text/plain": [
       "Downloading (…)olve/main/merges.txt:   0%|          | 0.00/456k [00:00<?, ?B/s]"
      ]
     },
     "metadata": {},
     "output_type": "display_data"
    },
    {
     "data": {
      "application/vnd.jupyter.widget-view+json": {
       "model_id": "4fe489d5bfcd45438c8ba63be2f381e8",
       "version_major": 2,
       "version_minor": 0
      },
      "text/plain": [
       "Downloading (…)/main/tokenizer.json:   0%|          | 0.00/1.36M [00:00<?, ?B/s]"
      ]
     },
     "metadata": {},
     "output_type": "display_data"
    },
    {
     "data": {
      "application/vnd.jupyter.widget-view+json": {
       "model_id": "424b7bab7eb7488284a47edcd883379c",
       "version_major": 2,
       "version_minor": 0
      },
      "text/plain": [
       "Downloading (…)cial_tokens_map.json:   0%|          | 0.00/239 [00:00<?, ?B/s]"
      ]
     },
     "metadata": {},
     "output_type": "display_data"
    }
   ],
   "source": [
    "\"\"\"\n",
    "    Import packages to use model\n",
    "\"\"\"\n",
    "\n",
    "from transformers import pipeline"
   ]
  },
  {
   "cell_type": "code",
   "execution_count": 4,
   "id": "1e7332f6",
   "metadata": {},
   "outputs": [
    {
     "name": "stdout",
     "output_type": "stream",
     "text": [
      "[{'label': 'sadness', 'score': 0.7300733327865601}]\n",
      "[{'label': 'surprise', 'score': 0.6681016087532043}]\n",
      "[{'label': 'surprise', 'score': 0.9680915474891663}]\n"
     ]
    }
   ],
   "source": [
    "\"\"\"\n",
    "    j-hartmann/emotion-english-distilroberta-base model\n",
    "    Possible classification categories:\n",
    "        anger 🤬\n",
    "        disgust 🤢\n",
    "        fear 😨\n",
    "        joy 😀\n",
    "        neutral 😐\n",
    "        sadness 😭\n",
    "        surprise 😲\n",
    "        \n",
    "    NOTE: model can only handle 512 token in single call\n",
    "\"\"\"\n",
    "\n",
    "emotion_pipe = pipeline(\"text-classification\", model=\"j-hartmann/emotion-english-distilroberta-base\")\n",
    "\n",
    "sentences = [\n",
    "    \"The abandoned dog, with a forlorn look in its eyes, wandered the empty streets in search of a kind soul to offer it a second chance at a loving home.\",\n",
    "    \"Jack's life took an incredible turn of fortune when he won the lottery, instantly transforming him from an ordinary individual into a multimillionaire overnight.\",\n",
    "    \"The look of pure astonishment on Sarah's face when she walked into the room and was greeted by a roomful of friends and family for her birthday surprise was priceless.\"\n",
    "]\n",
    "\n",
    "for sentence in sentences:\n",
    "    result = emotion_pipe(sentence)\n",
    "    print(result)"
   ]
  },
  {
   "cell_type": "code",
   "execution_count": null,
   "id": "83427b34",
   "metadata": {},
   "outputs": [],
   "source": []
  }
 ],
 "metadata": {
  "kernelspec": {
   "display_name": "myenv",
   "language": "python",
   "name": "myenv"
  },
  "language_info": {
   "codemirror_mode": {
    "name": "ipython",
    "version": 3
   },
   "file_extension": ".py",
   "mimetype": "text/x-python",
   "name": "python",
   "nbconvert_exporter": "python",
   "pygments_lexer": "ipython3",
   "version": "3.9.17"
  }
 },
 "nbformat": 4,
 "nbformat_minor": 5
}
