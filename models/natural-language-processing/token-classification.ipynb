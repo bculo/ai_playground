{
 "cells": [
  {
   "cell_type": "code",
   "execution_count": 1,
   "id": "55eb6d42",
   "metadata": {},
   "outputs": [
    {
     "data": {
      "text/plain": [
       "'\\n    Token classsification examples\\n    More models on https://huggingface.co/models?pipeline_tag=token-classification&sort=trending\\n    Use SHIFT + ENTER to execute block of code!!!\\n'"
      ]
     },
     "execution_count": 1,
     "metadata": {},
     "output_type": "execute_result"
    }
   ],
   "source": [
    "\"\"\"\n",
    "    Token classsification examples\n",
    "    More models on https://huggingface.co/models?pipeline_tag=token-classification&sort=trending\n",
    "    Use SHIFT + ENTER to execute block of code!!!\n",
    "\"\"\""
   ]
  },
  {
   "cell_type": "code",
   "execution_count": 2,
   "id": "4d18d19a",
   "metadata": {},
   "outputs": [],
   "source": [
    "\"\"\"\n",
    "    Import packages to use model\n",
    "\"\"\"\n",
    "from transformers import pipeline"
   ]
  },
  {
   "cell_type": "code",
   "execution_count": 5,
   "id": "2db38f31",
   "metadata": {},
   "outputs": [
    {
     "data": {
      "application/vnd.jupyter.widget-view+json": {
       "model_id": "6fbe8e6e912b4bd08135e96cddee25ec",
       "version_major": 2,
       "version_minor": 0
      },
      "text/plain": [
       "Downloading (…)lve/main/config.json:   0%|          | 0.00/829 [00:00<?, ?B/s]"
      ]
     },
     "metadata": {},
     "output_type": "display_data"
    },
    {
     "data": {
      "application/vnd.jupyter.widget-view+json": {
       "model_id": "12f48439a55947179d866550d67c198e",
       "version_major": 2,
       "version_minor": 0
      },
      "text/plain": [
       "Downloading pytorch_model.bin:   0%|          | 0.00/433M [00:00<?, ?B/s]"
      ]
     },
     "metadata": {},
     "output_type": "display_data"
    },
    {
     "data": {
      "application/vnd.jupyter.widget-view+json": {
       "model_id": "91fca4c89c694a01944b1d09676cd957",
       "version_major": 2,
       "version_minor": 0
      },
      "text/plain": [
       "Downloading (…)okenizer_config.json:   0%|          | 0.00/59.0 [00:00<?, ?B/s]"
      ]
     },
     "metadata": {},
     "output_type": "display_data"
    },
    {
     "data": {
      "application/vnd.jupyter.widget-view+json": {
       "model_id": "99bbf804df3346e5ac75a92395c2d7a7",
       "version_major": 2,
       "version_minor": 0
      },
      "text/plain": [
       "Downloading (…)solve/main/vocab.txt:   0%|          | 0.00/213k [00:00<?, ?B/s]"
      ]
     },
     "metadata": {},
     "output_type": "display_data"
    },
    {
     "data": {
      "application/vnd.jupyter.widget-view+json": {
       "model_id": "0792f6980899419393267750548abc68",
       "version_major": 2,
       "version_minor": 0
      },
      "text/plain": [
       "Downloading (…)in/added_tokens.json:   0%|          | 0.00/2.00 [00:00<?, ?B/s]"
      ]
     },
     "metadata": {},
     "output_type": "display_data"
    },
    {
     "data": {
      "application/vnd.jupyter.widget-view+json": {
       "model_id": "91be8e2b212541eb9d53f2ed3e9fe635",
       "version_major": 2,
       "version_minor": 0
      },
      "text/plain": [
       "Downloading (…)cial_tokens_map.json:   0%|          | 0.00/112 [00:00<?, ?B/s]"
      ]
     },
     "metadata": {},
     "output_type": "display_data"
    },
    {
     "name": "stdout",
     "output_type": "stream",
     "text": [
      "[]\n",
      "[{'entity': 'B-PER', 'score': 0.99899095, 'index': 1, 'word': 'Jack', 'start': 0, 'end': 4}]\n",
      "[{'entity': 'B-PER', 'score': 0.99876475, 'index': 7, 'word': 'Sarah', 'start': 33, 'end': 38}]\n"
     ]
    }
   ],
   "source": [
    "\"\"\"\n",
    "    dslim/bert-base-NER model\n",
    "    Possible classification categories:\n",
    "        PER\n",
    "        MISC\n",
    "        ORG\n",
    "        LOC\n",
    "        \n",
    "    Example\n",
    "    \"My name is Sarah and I live in London\"\n",
    "    Result\n",
    "    Sarah - PER\n",
    "    London - LOC\n",
    "        \n",
    "    NOTE: model can only handle 512 token in single call\n",
    "\"\"\"\n",
    "\n",
    "pipe = pipeline(\"token-classification\", model=\"dslim/bert-base-NER\")\n",
    "\n",
    "sentences = [\n",
    "    \"The abandoned dog, with a forlorn look in its eyes, wandered the empty streets in search of a kind soul to offer it a second chance at a loving home.\",\n",
    "    \"Jack's life took an incredible turn of fortune when he won the lottery, instantly transforming him from an ordinary individual into a multimillionaire overnight.\",\n",
    "    \"The look of pure astonishment on Sarah's face when she walked into the room and was greeted by a roomful of friends and family for her birthday surprise was priceless.\"\n",
    "]\n",
    "\n",
    "for sentence in sentences:\n",
    "    result = pipe(sentence)\n",
    "    print(result)"
   ]
  },
  {
   "cell_type": "code",
   "execution_count": null,
   "id": "5d5cbab4",
   "metadata": {},
   "outputs": [],
   "source": []
  }
 ],
 "metadata": {
  "kernelspec": {
   "display_name": "myenv",
   "language": "python",
   "name": "myenv"
  },
  "language_info": {
   "codemirror_mode": {
    "name": "ipython",
    "version": 3
   },
   "file_extension": ".py",
   "mimetype": "text/x-python",
   "name": "python",
   "nbconvert_exporter": "python",
   "pygments_lexer": "ipython3",
   "version": "3.9.17"
  }
 },
 "nbformat": 4,
 "nbformat_minor": 5
}
