{
 "cells": [
  {
   "cell_type": "code",
   "execution_count": 1,
   "id": "851f35b7",
   "metadata": {},
   "outputs": [
    {
     "data": {
      "text/plain": [
       "'\\n    Sentence similarity example\\n    More models on https://huggingface.co/models?pipeline_tag=sentence-similarity&sort=trending\\n    Use SHIFT + ENTER to execute block of code!!!\\n'"
      ]
     },
     "execution_count": 1,
     "metadata": {},
     "output_type": "execute_result"
    }
   ],
   "source": [
    "\"\"\"\n",
    "    Sentence similarity example\n",
    "    More models on https://huggingface.co/models?pipeline_tag=sentence-similarity&sort=trending\n",
    "    Use SHIFT + ENTER to execute block of code!!!\n",
    "\"\"\""
   ]
  },
  {
   "cell_type": "code",
   "execution_count": 2,
   "id": "76d7d92a",
   "metadata": {},
   "outputs": [
    {
     "ename": "ModuleNotFoundError",
     "evalue": "No module named 'sentence_transformers'",
     "output_type": "error",
     "traceback": [
      "\u001b[0;31m---------------------------------------------------------------------------\u001b[0m",
      "\u001b[0;31mModuleNotFoundError\u001b[0m                       Traceback (most recent call last)",
      "Cell \u001b[0;32mIn[2], line 4\u001b[0m\n\u001b[1;32m      1\u001b[0m \u001b[38;5;124;03m\"\"\"\u001b[39;00m\n\u001b[1;32m      2\u001b[0m \u001b[38;5;124;03m    Import packages to use model\u001b[39;00m\n\u001b[1;32m      3\u001b[0m \u001b[38;5;124;03m\"\"\"\u001b[39;00m\n\u001b[0;32m----> 4\u001b[0m \u001b[38;5;28;01mfrom\u001b[39;00m \u001b[38;5;21;01msentence_transformers\u001b[39;00m \u001b[38;5;28;01mimport\u001b[39;00m SentenceTransformer, util\n",
      "\u001b[0;31mModuleNotFoundError\u001b[0m: No module named 'sentence_transformers'"
     ]
    }
   ],
   "source": [
    "\"\"\"\n",
    "    Import packages to use model\n",
    "\"\"\"\n",
    "from sentence_transformers import SentenceTransformer, util"
   ]
  },
  {
   "cell_type": "code",
   "execution_count": null,
   "id": "910d1901",
   "metadata": {},
   "outputs": [],
   "source": [
    "\"\"\"\n",
    "    sentence-transformers/all-mpnet-base-v2 model\n",
    "    \n",
    "    Example\n",
    "    'Hello everyone!!'\n",
    "    Result\n",
    "    [0.5, 0.6, 0.7, ..., 0.81, 0.1]\n",
    "        \n",
    "    NOTE: model can only handle 512 token in single call\n",
    "\"\"\"\n",
    "\n",
    "model = SentenceTransformer('sentence-transformers/all-mpnet-base-v2')\n",
    "\n",
    "sentences_one = [\n",
    "    \"Python is great programming language.\",\n",
    "    \"My neighbor's dog, Max, is the ultimate good boi, always wagging his tail and spreading joy with his boundless enthusiasm and loyalty.\",\n",
    "    \"The Boeing 747, known as the 'Queen of the Skies', revolutionized air travel with its iconic humpbacked design and immense capacity, symbolizing the golden age of jumbo jet aviation.\"\n",
    "]\n",
    "\n",
    "sentences_two = [\n",
    "    \"Pyython could be great language for programming.\",\n",
    "    \"The joyful dog, with its tail wagging vigorously, expressed its happiness and excitement as it bounded towards its owner, ready for a day filled with play and love.\",\n",
    "    \"he sleek, silver airplane soared gracefully through the cloud-studded sky, carrying its passengers to distant destinations with the promise of adventure and new horizons.\"\n",
    "]\n",
    "\n",
    "# create vector embeddings for all sentences\n",
    "sentences_one_enc = model.encode(sentences_one)\n",
    "sentences_two_enc = model.encode(sentences_two)\n",
    "\n",
    "# calculate similarity between them using cosine similarity\n",
    "cosine_scores = util.cos_sim(sentences_one_enc, sentences_two_enc)\n",
    "\n",
    "for i, sentence_i in enumerate(sentences_one):\n",
    "    for j, sentence_j in enumerate(sentences_two):\n",
    "        print(f\"Similarity between ({sentence_i}) -- ({sentence_j}) is {cosine_scores[i][j]}\")\n"
   ]
  },
  {
   "cell_type": "code",
   "execution_count": 16,
   "id": "c9b7c535",
   "metadata": {},
   "outputs": [
    {
     "name": "stdout",
     "output_type": "stream",
     "text": [
      "Similarity between (Python) -- (Pyython) is 0.7662819623947144\n",
      "Similarity between (Python) -- (White space) is 0.2856975793838501\n",
      "Similarity between (Whitespace) -- (Pyython) is 0.23152585327625275\n",
      "Similarity between (Whitespace) -- (White space) is 0.9035411477088928\n"
     ]
    }
   ],
   "source": [
    "\"\"\"\n",
    "    Sentence similarity models are really good for misspelling problem\n",
    "\"\"\"\n",
    "\n",
    "sentences_one = [\n",
    "    \"Python\",  \n",
    "    \"Whitespace\"\n",
    "]\n",
    "\n",
    "sentences_two = [\n",
    "    \"Pyython\",\n",
    "    \"White space\"\n",
    "]\n",
    "\n",
    "# create vector embeddings for all sentences\n",
    "sentences_one_enc = model.encode(sentences_one)\n",
    "sentences_two_enc = model.encode(sentences_two)\n",
    "\n",
    "# calculate similarity between them using cosine similarity\n",
    "cosine_scores = util.cos_sim(sentences_one_enc, sentences_two_enc)\n",
    "\n",
    "for i, sentence_i in enumerate(sentences_one):\n",
    "    for j, sentence_j in enumerate(sentences_two):\n",
    "        print(f\"Similarity between ({sentence_i}) -- ({sentence_j}) is {cosine_scores[i][j]}\")"
   ]
  },
  {
   "cell_type": "code",
   "execution_count": null,
   "id": "aade536d",
   "metadata": {},
   "outputs": [],
   "source": []
  }
 ],
 "metadata": {
  "kernelspec": {
   "display_name": "myenv2",
   "language": "python",
   "name": "myenv2"
  },
  "language_info": {
   "codemirror_mode": {
    "name": "ipython",
    "version": 3
   },
   "file_extension": ".py",
   "mimetype": "text/x-python",
   "name": "python",
   "nbconvert_exporter": "python",
   "pygments_lexer": "ipython3",
   "version": "3.9.17"
  }
 },
 "nbformat": 4,
 "nbformat_minor": 5
}
