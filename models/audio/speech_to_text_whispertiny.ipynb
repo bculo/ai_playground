{
 "cells": [
  {
   "cell_type": "code",
   "execution_count": 19,
   "id": "6a8fdc4b",
   "metadata": {},
   "outputs": [
    {
     "name": "stdout",
     "output_type": "stream",
     "text": [
      "['002_sample.wav', '001_sample.wav', '003_sample.wav']\n"
     ]
    }
   ],
   "source": [
    "import os\n",
    "\n",
    "audio_paths = [soundtrack for soundtrack in os.listdir('./') if soundtrack.endswith(\".wav\")]\n",
    "print(audio_paths)\n"
   ]
  },
  {
   "cell_type": "code",
   "execution_count": 20,
   "id": "d09e0b0c",
   "metadata": {},
   "outputs": [],
   "source": [
    "from transformers import WhisperProcessor, WhisperForConditionalGeneration\n",
    "\n",
    "processor = WhisperProcessor.from_pretrained(\"openai/whisper-tiny\")\n",
    "model = WhisperForConditionalGeneration.from_pretrained(\"openai/whisper-tiny\")"
   ]
  },
  {
   "cell_type": "code",
   "execution_count": 21,
   "id": "8dbc3431",
   "metadata": {},
   "outputs": [
    {
     "name": "stdout",
     "output_type": "stream",
     "text": [
      "[array([0.00178964, 0.00130702, 0.00215586, ..., 0.00444725, 0.00611901,\n",
      "       0.        ], dtype=float32), array([0.00184258, 0.0014668 , 0.00157558, ..., 0.14688016, 0.13659559,\n",
      "       0.13573726], dtype=float32), array([-0.01138664, -0.015726  , -0.01388478, ..., -0.03149049,\n",
      "       -0.04836883, -0.06983858], dtype=float32)]\n"
     ]
    }
   ],
   "source": [
    "import librosa\n",
    "\n",
    "def speech_file_to_array_fn(audio_path):\n",
    "    speech_array, sampling_rate = librosa.load(audio_path, sr=16_000)\n",
    "    return speech_array\n",
    "\n",
    "result = list(map(speech_file_to_array_fn, audio_paths))\n",
    "print(result)"
   ]
  },
  {
   "cell_type": "code",
   "execution_count": 22,
   "id": "1d0ed219",
   "metadata": {},
   "outputs": [],
   "source": [
    "input_features = processor(result, sampling_rate=16_000, return_tensors=\"pt\").input_features "
   ]
  },
  {
   "cell_type": "code",
   "execution_count": 23,
   "id": "a4af2192",
   "metadata": {},
   "outputs": [],
   "source": [
    "forced_decoder_ids = processor.get_decoder_prompt_ids(language=\"english\", task=\"transcribe\")\n",
    "predicted_ids = model.generate(input_features, forced_decoder_ids=forced_decoder_ids)"
   ]
  },
  {
   "cell_type": "code",
   "execution_count": 24,
   "id": "2c9c3e20",
   "metadata": {},
   "outputs": [
    {
     "name": "stdout",
     "output_type": "stream",
     "text": [
      "[' Hello, my dog is cute.', ' Hello, my name is Suna and I like pizza. But I also have other interests such as going to tactile.', ' Christiano Ronaldo, one of the greatest footballers of all time, has won numerous accolades and continues to impress fans worldwide with his skill in dedication to the sport.']\n"
     ]
    }
   ],
   "source": [
    "transcription = processor.batch_decode(predicted_ids, skip_special_tokens=True)\n",
    "print(transcription)"
   ]
  },
  {
   "cell_type": "code",
   "execution_count": null,
   "id": "ad28d118",
   "metadata": {},
   "outputs": [],
   "source": [
    " "
   ]
  }
 ],
 "metadata": {
  "kernelspec": {
   "display_name": "myenv2",
   "language": "python",
   "name": "myenv2"
  },
  "language_info": {
   "codemirror_mode": {
    "name": "ipython",
    "version": 3
   },
   "file_extension": ".py",
   "mimetype": "text/x-python",
   "name": "python",
   "nbconvert_exporter": "python",
   "pygments_lexer": "ipython3",
   "version": "3.9.17"
  }
 },
 "nbformat": 4,
 "nbformat_minor": 5
}
