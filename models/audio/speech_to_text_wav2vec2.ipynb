{
 "cells": [
  {
   "cell_type": "code",
   "execution_count": 85,
   "id": "069f63d2",
   "metadata": {},
   "outputs": [
    {
     "name": "stdout",
     "output_type": "stream",
     "text": [
      "['002_sample.wav', '001_sample.wav']\n"
     ]
    }
   ],
   "source": [
    "import os\n",
    "\n",
    "print([soundtrack for soundtrack in os.listdir('./') if soundtrack.endswith(\".wav\")])"
   ]
  },
  {
   "cell_type": "code",
   "execution_count": 5,
   "id": "e485e188",
   "metadata": {},
   "outputs": [
    {
     "name": "stdout",
     "output_type": "stream",
     "text": [
      "10/10/2023 15:38:41 - INFO - huggingsound.speech_recognition.model - Loading model...\n"
     ]
    },
    {
     "name": "stderr",
     "output_type": "stream",
     "text": [
      "Downloading (…)lve/main/config.json: 100%|████████████████████████████████████████████████████████| 1.53k/1.53k [00:00<00:00, 501kB/s]\n",
      "Downloading model.safetensors: 100%|█████████████████████████████████████████████████████████████| 1.26G/1.26G [00:36<00:00, 34.9MB/s]\n",
      "Downloading (…)rocessor_config.json: 100%|███████████████████████████████████████████████████████████| 262/262 [00:00<00:00, 67.7kB/s]\n",
      "Downloading (…)olve/main/vocab.json: 100%|███████████████████████████████████████████████████████████| 300/300 [00:00<00:00, 58.8kB/s]\n",
      "Downloading (…)cial_tokens_map.json: 100%|█████████████████████████████████████████████████████████| 85.0/85.0 [00:00<00:00, 23.3kB/s]\n"
     ]
    }
   ],
   "source": [
    "from huggingsound import SpeechRecognitionModel\n",
    "\n",
    "model = SpeechRecognitionModel(\"jonatasgrosman/wav2vec2-large-xlsr-53-english\")"
   ]
  },
  {
   "cell_type": "code",
   "execution_count": 86,
   "id": "0c1d6146",
   "metadata": {},
   "outputs": [
    {
     "data": {
      "text/plain": [
       "['002_sample.wav', '001_sample.wav']"
      ]
     },
     "execution_count": 86,
     "metadata": {},
     "output_type": "execute_result"
    }
   ],
   "source": [
    "audio_paths = [soundtrack for soundtrack in os.listdir('./') if soundtrack.endswith(\".wav\")]\n",
    "audio_paths"
   ]
  },
  {
   "cell_type": "code",
   "execution_count": 10,
   "id": "a0aea266",
   "metadata": {},
   "outputs": [
    {
     "name": "stderr",
     "output_type": "stream",
     "text": [
      "100%|███████████████████████████████████████████████████████████████████████████████████████████████████| 1/1 [00:02<00:00,  2.82s/it]\n"
     ]
    }
   ],
   "source": [
    "transcriptions = model.transcribe(audio_paths)"
   ]
  },
  {
   "cell_type": "code",
   "execution_count": 12,
   "id": "891cd853",
   "metadata": {},
   "outputs": [
    {
     "name": "stdout",
     "output_type": "stream",
     "text": [
      "my name is suno and like pixzabut i also have other interest such as plantitacto and\n"
     ]
    }
   ],
   "source": [
    "print(transcriptions[0]['transcription'])"
   ]
  },
  {
   "cell_type": "code",
   "execution_count": 87,
   "id": "81fa2fb3",
   "metadata": {},
   "outputs": [],
   "source": [
    "from transformers import Wav2Vec2ForCTC, Wav2Vec2Processor\n",
    "\n",
    "MODEL_ID = \"jonatasgrosman/wav2vec2-large-xlsr-53-english\"\n",
    "processor = Wav2Vec2Processor.from_pretrained(MODEL_ID)\n",
    "model = Wav2Vec2ForCTC.from_pretrained(MODEL_ID)"
   ]
  },
  {
   "cell_type": "code",
   "execution_count": 88,
   "id": "beb4b5bc",
   "metadata": {},
   "outputs": [],
   "source": [
    "import librosa\n",
    "from datasets import Dataset\n",
    "\n",
    "sr_default = 16_000\n",
    "\n",
    "def speech_file_to_array_fn(audio_path):\n",
    "    speech_array, sampling_rate = librosa.load(audio_path, sr=sr_default)\n",
    "    return speech_array\n",
    "\n",
    "result = list(map(speech_file_to_array_fn, audio_paths))\n",
    "inputs = processor(result, sampling_rate=sr_default, return_tensors=\"pt\", padding=True)"
   ]
  },
  {
   "cell_type": "code",
   "execution_count": 89,
   "id": "c669401e",
   "metadata": {},
   "outputs": [],
   "source": [
    "import torch\n",
    "\n",
    "with torch.no_grad():\n",
    "    logits = model(inputs.input_values, attention_mask=inputs.attention_mask).logits"
   ]
  },
  {
   "cell_type": "code",
   "execution_count": 90,
   "id": "e8a6123f",
   "metadata": {},
   "outputs": [],
   "source": [
    "predicted_ids = torch.argmax(logits, dim=-1)\n",
    "predicted_sentences = processor.batch_decode(predicted_ids)"
   ]
  },
  {
   "cell_type": "code",
   "execution_count": 91,
   "id": "c9a5aa4b",
   "metadata": {},
   "outputs": [
    {
     "name": "stdout",
     "output_type": "stream",
     "text": [
      "Reference: 002_sample.wav\n",
      "Prediction: hallo my dogter is cut\n",
      "Reference: 001_sample.wav\n",
      "Prediction: my name is suno and like pixzabut i also have other interest such as plantitacto and\n"
     ]
    }
   ],
   "source": [
    "for i, predicted_sentence in enumerate(predicted_sentences):\n",
    "    print(\"Reference:\", audio_paths[i])\n",
    "    print(\"Prediction:\", predicted_sentence)"
   ]
  },
  {
   "cell_type": "code",
   "execution_count": null,
   "id": "7921da11",
   "metadata": {},
   "outputs": [],
   "source": []
  }
 ],
 "metadata": {
  "kernelspec": {
   "display_name": "myenv2",
   "language": "python",
   "name": "myenv2"
  },
  "language_info": {
   "codemirror_mode": {
    "name": "ipython",
    "version": 3
   },
   "file_extension": ".py",
   "mimetype": "text/x-python",
   "name": "python",
   "nbconvert_exporter": "python",
   "pygments_lexer": "ipython3",
   "version": "3.9.17"
  }
 },
 "nbformat": 4,
 "nbformat_minor": 5
}
